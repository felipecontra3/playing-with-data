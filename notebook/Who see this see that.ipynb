{
 "cells": [
  {
   "cell_type": "code",
   "execution_count": 1,
   "metadata": {
    "collapsed": false
   },
   "outputs": [
    {
     "name": "stdout",
     "output_type": "stream",
     "text": [
      "Welcome to\n",
      "      ____              __\n",
      "     / __/__  ___ _____/ /__\n",
      "    _\\ \\/ _ \\/ _ `/ __/  '_/\n",
      "   /__ / .__/\\_,_/_/ /_/\\_\\   version 2.0.2\n",
      "      /_/\n",
      "\n",
      "Using Python version 2.7.12 (default, Jul  1 2016 15:12:24)\n",
      "SparkSession available as 'spark'.\n"
     ]
    }
   ],
   "source": [
    "#configure the necessary Spark environment\n",
    "import os, sys\n",
    "\n",
    "#del os.environ['PYSPARK_SUBMIT_ARGS']\n",
    "\n",
    "#here you should set where are located the spark files\n",
    "spark_home = '/home/vagrant/spark-2.0.2-bin-hadoop2.7/'\n",
    "\n",
    "os.environ[\"SPARK_HOME\"]  = spark_home\n",
    "\n",
    "sys.path.insert(0, spark_home + \"/python\")\n",
    "\n",
    "sys.path.insert(0, os.path.join(spark_home, 'python/lib/py4j-0.10.3-src.zip'))\n",
    "\n",
    "#this defines the sparkContext sc\n",
    "execfile(os.path.join(spark_home, 'python/pyspark/shell.py'))"
   ]
  },
  {
   "cell_type": "code",
   "execution_count": 2,
   "metadata": {
    "collapsed": false
   },
   "outputs": [
    {
     "name": "stderr",
     "output_type": "stream",
     "text": [
      "/usr/lib/python2.7/dist-packages/matplotlib/font_manager.py:273: UserWarning: Matplotlib is building the font cache using fc-list. This may take a moment.\n",
      "  warnings.warn('Matplotlib is building the font cache using fc-list. This may take a moment.')\n"
     ]
    }
   ],
   "source": [
    "%matplotlib inline\n",
    "import datetime\n",
    "import numpy as np"
   ]
  },
  {
   "cell_type": "code",
   "execution_count": 3,
   "metadata": {
    "collapsed": true
   },
   "outputs": [],
   "source": [
    "interactions_file = sc.textFile('../data/interactions.psv')\n",
    "interactions_header = interactions_file.first()\n",
    "\n",
    "products_file = sc.textFile('../data/products.psv')\n",
    "products_header = products_file.first()\n",
    "\n",
    "interactions_by_product = (interactions_file\n",
    "                .filter(lambda l: l != interactions_header)\n",
    "                .map(lambda l: l.split(\"|\"))\n",
    "                .map(lambda l: (l[2], [l[0], l[1], l[3], l[4], datetime.datetime.fromtimestamp(int(l[5])/1000.0).replace(minute=0, hour=0, second=0, microsecond=0) ]))\n",
    "                .filter(lambda l: l[1][1] in [u'viewed', u'bought'])\n",
    ")\n",
    "products = (products_file\n",
    "            .filter(lambda l: l != products_header)\n",
    "            .map(lambda l: l.split(\"|\"))\n",
    "            .map(lambda l: (l[0], [l[1], l[2], l[3], l[4], float(l[5])  ]))\n",
    ")"
   ]
  },
  {
   "cell_type": "code",
   "execution_count": 4,
   "metadata": {
    "collapsed": false
   },
   "outputs": [],
   "source": [
    "users_product = (interactions_by_product\n",
    "     .map(lambda x: (x[1][0], x[0]))\n",
    "     .groupByKey()\n",
    "     .map(lambda x : (x[0], list(set(x[1]))))\n",
    ")"
   ]
  },
  {
   "cell_type": "code",
   "execution_count": 5,
   "metadata": {
    "collapsed": false
   },
   "outputs": [],
   "source": [
    "product_product = (interactions_by_product\n",
    "                            .map(lambda x: (x[1][0], x[0]))\n",
    "                            .join(users_product)\n",
    "                            .map(lambda x: (x[1][0], x[1][1]))\n",
    "                            .reduceByKey(lambda a, b: a+b)\n",
    "                            .map(lambda x : (x[0], list(set(x[1]))))\n",
    "                            .collect()\n",
    ")"
   ]
  },
  {
   "cell_type": "code",
   "execution_count": 6,
   "metadata": {
    "collapsed": false
   },
   "outputs": [
    {
     "data": {
      "text/plain": [
       "[(u'd44a37d5-e07d-4668-bf30-fa73dd51ee19',\n",
       "  [u'd44a37d5-e07d-4668-bf30-fa73dd51ee19']),\n",
       " (u'd4fe2d2f-42ef-4498-a739-7eb9a158bb45',\n",
       "  [u'd4fe2d2f-42ef-4498-a739-7eb9a158bb45']),\n",
       " (u'a7a270e8-eaa0-4186-ae8e-ceec368a7da2',\n",
       "  [u'a7a270e8-eaa0-4186-ae8e-ceec368a7da2']),\n",
       " (u'afd05e52-f1b4-4c3b-a83b-5a31b6a9e518',\n",
       "  [u'afd05e52-f1b4-4c3b-a83b-5a31b6a9e518']),\n",
       " (u'300b6541-8d6b-48ad-9647-f3a7d4d007e9',\n",
       "  [u'300b6541-8d6b-48ad-9647-f3a7d4d007e9']),\n",
       " (u'd71a2931-ef52-48ca-9297-5522146f1b12',\n",
       "  [u'd71a2931-ef52-48ca-9297-5522146f1b12']),\n",
       " (u'b9906424-7ade-4f56-ba31-e0dae557aca2',\n",
       "  [u'b9906424-7ade-4f56-ba31-e0dae557aca2',\n",
       "   u'32754f51-f1da-4e47-9568-06b374c65c69']),\n",
       " (u'62abe1df-e519-494a-911b-e3357fe11af1',\n",
       "  [u'62abe1df-e519-494a-911b-e3357fe11af1']),\n",
       " (u'26a7069e-ab50-4b83-b1e1-ac44b3defc74',\n",
       "  [u'26a7069e-ab50-4b83-b1e1-ac44b3defc74',\n",
       "   u'4364723c-6a9b-48df-b36f-6ae6c8cf00d5',\n",
       "   u'865a4ee3-7cc2-4da5-b444-440209add9f6',\n",
       "   u'50127342-17b5-48d9-8bf2-acfeef846857']),\n",
       " (u'8f821e84-9661-4cec-8222-36dc5eb292e9',\n",
       "  [u'8f821e84-9661-4cec-8222-36dc5eb292e9'])]"
      ]
     },
     "execution_count": 6,
     "metadata": {},
     "output_type": "execute_result"
    }
   ],
   "source": [
    "product_suggestion = sc.parallelize(product_product)\n",
    "product_suggestion.take(10)"
   ]
  }
 ],
 "metadata": {
  "kernelspec": {
   "display_name": "Python 2",
   "language": "python",
   "name": "python2"
  },
  "language_info": {
   "codemirror_mode": {
    "name": "ipython",
    "version": 2
   },
   "file_extension": ".py",
   "mimetype": "text/x-python",
   "name": "python",
   "nbconvert_exporter": "python",
   "pygments_lexer": "ipython2",
   "version": "2.7.12"
  }
 },
 "nbformat": 4,
 "nbformat_minor": 2
}
